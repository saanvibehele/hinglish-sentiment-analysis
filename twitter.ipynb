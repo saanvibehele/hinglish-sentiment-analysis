{
 "cells": [
  {
   "cell_type": "code",
   "execution_count": 1,
   "id": "a983a57b",
   "metadata": {},
   "outputs": [
    {
     "name": "stdout",
     "output_type": "stream",
     "text": [
      "Defaulting to user installation because normal site-packages is not writeable\n",
      "Collecting indic-transliteration\n",
      "  Downloading indic_transliteration-2.3.43-py3-none-any.whl (143 kB)\n",
      "\u001b[2K     \u001b[38;2;114;156;31m━━━━━━━━━━━━━━━━━━━━━━━━━━━━━━━━━━━━━━━\u001b[0m \u001b[32m143.2/143.2 KB\u001b[0m \u001b[31m1.1 MB/s\u001b[0m eta \u001b[36m0:00:00\u001b[0m MB/s\u001b[0m eta \u001b[36m0:00:01\u001b[0m\n",
      "\u001b[?25hCollecting regex\n",
      "  Using cached regex-2022.10.31-cp310-cp310-manylinux_2_17_x86_64.manylinux2014_x86_64.whl (770 kB)\n",
      "Collecting backports.functools-lru-cache\n",
      "  Downloading backports.functools_lru_cache-1.6.4-py2.py3-none-any.whl (5.9 kB)\n",
      "Collecting toml\n",
      "  Using cached toml-0.10.2-py2.py3-none-any.whl (16 kB)\n",
      "Collecting typer\n",
      "  Downloading typer-0.7.0-py3-none-any.whl (38 kB)\n",
      "Collecting roman\n",
      "  Downloading roman-4.0-py3-none-any.whl (7.8 kB)\n",
      "Requirement already satisfied: click<9.0.0,>=7.1.1 in /usr/lib/python3/dist-packages (from typer->indic-transliteration) (8.0.3)\n",
      "Installing collected packages: typer, toml, roman, regex, backports.functools-lru-cache, indic-transliteration\n",
      "\u001b[33m  WARNING: The script roman is installed in '/home/saanvi/.local/bin' which is not on PATH.\n",
      "  Consider adding this directory to PATH or, if you prefer to suppress this warning, use --no-warn-script-location.\u001b[0m\u001b[33m\n",
      "\u001b[0m\u001b[33m  WARNING: The script sanscript is installed in '/home/saanvi/.local/bin' which is not on PATH.\n",
      "  Consider adding this directory to PATH or, if you prefer to suppress this warning, use --no-warn-script-location.\u001b[0m\u001b[33m\n",
      "\u001b[0mSuccessfully installed backports.functools-lru-cache-1.6.4 indic-transliteration-2.3.43 regex-2022.10.31 roman-4.0 toml-0.10.2 typer-0.7.0\n",
      "Note: you may need to restart the kernel to use updated packages.\n"
     ]
    }
   ],
   "source": [
    "pip install indic-transliteration"
   ]
  },
  {
   "cell_type": "code",
   "execution_count": 8,
   "id": "f927f491",
   "metadata": {},
   "outputs": [
    {
     "name": "stdout",
     "output_type": "stream",
     "text": [
      "नमस्ते भैयो और् बेहेनो\n"
     ]
    }
   ],
   "source": [
    "# import the module\n",
    "from indic_transliteration import sanscript\n",
    "from indic_transliteration.sanscript import transliterate\n",
    "  \n",
    "# the text to be transliterated\n",
    "text = \"namaste bhaiyo aur beheno\"\n",
    "  \n",
    "# printing the transliterated text\n",
    "print(transliterate(text, sanscript.ITRANS, sanscript.DEVANAGARI))"
   ]
  },
  {
   "cell_type": "code",
   "execution_count": 1,
   "id": "ffe14eb8",
   "metadata": {},
   "outputs": [],
   "source": [
    "import pandas as pd"
   ]
  },
  {
   "cell_type": "code",
   "execution_count": 2,
   "id": "c24b80b7",
   "metadata": {},
   "outputs": [],
   "source": [
    "df = pd.read_csv(\"/home/saanvi/code/twitter/data-main/data.csv\")"
   ]
  },
  {
   "cell_type": "code",
   "execution_count": 3,
   "id": "8212ab05",
   "metadata": {},
   "outputs": [
    {
     "data": {
      "text/html": [
       "<div>\n",
       "<style scoped>\n",
       "    .dataframe tbody tr th:only-of-type {\n",
       "        vertical-align: middle;\n",
       "    }\n",
       "\n",
       "    .dataframe tbody tr th {\n",
       "        vertical-align: top;\n",
       "    }\n",
       "\n",
       "    .dataframe thead th {\n",
       "        text-align: right;\n",
       "    }\n",
       "</style>\n",
       "<table border=\"1\" class=\"dataframe\">\n",
       "  <thead>\n",
       "    <tr style=\"text-align: right;\">\n",
       "      <th></th>\n",
       "      <th>ID</th>\n",
       "      <th>Tweet</th>\n",
       "      <th>Sentiment Polarity</th>\n",
       "    </tr>\n",
       "  </thead>\n",
       "  <tbody>\n",
       "    <tr>\n",
       "      <th>0</th>\n",
       "      <td>4330</td>\n",
       "      <td>vist bolest vztek smutek zmatek osam lost bezn...</td>\n",
       "      <td>neutral</td>\n",
       "    </tr>\n",
       "    <tr>\n",
       "      <th>1</th>\n",
       "      <td>41616</td>\n",
       "      <td>hain yaar neha karega post usn na sach mein ph...</td>\n",
       "      <td>neutral</td>\n",
       "    </tr>\n",
       "    <tr>\n",
       "      <th>2</th>\n",
       "      <td>6648</td>\n",
       "      <td>televis media congress liy nahi aapko pata cha...</td>\n",
       "      <td>negative</td>\n",
       "    </tr>\n",
       "    <tr>\n",
       "      <th>3</th>\n",
       "      <td>2512</td>\n",
       "      <td>india nrc lagu kare kashmir dhara khatam kare ...</td>\n",
       "      <td>positive</td>\n",
       "    </tr>\n",
       "    <tr>\n",
       "      <th>4</th>\n",
       "      <td>610</td>\n",
       "      <td>pagal real issu mandir import hindu khatr</td>\n",
       "      <td>neutral</td>\n",
       "    </tr>\n",
       "    <tr>\n",
       "      <th>...</th>\n",
       "      <td>...</td>\n",
       "      <td>...</td>\n",
       "      <td>...</td>\n",
       "    </tr>\n",
       "    <tr>\n",
       "      <th>16995</th>\n",
       "      <td>10425</td>\n",
       "      <td>yogesh ha ji bhul ha fan raat dete hain inki d...</td>\n",
       "      <td>neutral</td>\n",
       "    </tr>\n",
       "    <tr>\n",
       "      <th>16996</th>\n",
       "      <td>14162</td>\n",
       "      <td>realest thank put track wait next soon</td>\n",
       "      <td>neutral</td>\n",
       "    </tr>\n",
       "    <tr>\n",
       "      <th>16997</th>\n",
       "      <td>15860</td>\n",
       "      <td>khan fahad bhi give bilal abba wait anymor bil...</td>\n",
       "      <td>neutral</td>\n",
       "    </tr>\n",
       "    <tr>\n",
       "      <th>16998</th>\n",
       "      <td>25435</td>\n",
       "      <td>bad side bad horribl bad</td>\n",
       "      <td>neutral</td>\n",
       "    </tr>\n",
       "    <tr>\n",
       "      <th>16999</th>\n",
       "      <td>25183</td>\n",
       "      <td>chutiya madarchod sabs harami thok</td>\n",
       "      <td>negative</td>\n",
       "    </tr>\n",
       "  </tbody>\n",
       "</table>\n",
       "<p>17000 rows × 3 columns</p>\n",
       "</div>"
      ],
      "text/plain": [
       "          ID                                              Tweet  \\\n",
       "0       4330  vist bolest vztek smutek zmatek osam lost bezn...   \n",
       "1      41616  hain yaar neha karega post usn na sach mein ph...   \n",
       "2       6648  televis media congress liy nahi aapko pata cha...   \n",
       "3       2512  india nrc lagu kare kashmir dhara khatam kare ...   \n",
       "4        610          pagal real issu mandir import hindu khatr   \n",
       "...      ...                                                ...   \n",
       "16995  10425  yogesh ha ji bhul ha fan raat dete hain inki d...   \n",
       "16996  14162             realest thank put track wait next soon   \n",
       "16997  15860  khan fahad bhi give bilal abba wait anymor bil...   \n",
       "16998  25435                           bad side bad horribl bad   \n",
       "16999  25183                 chutiya madarchod sabs harami thok   \n",
       "\n",
       "      Sentiment Polarity  \n",
       "0                neutral  \n",
       "1                neutral  \n",
       "2               negative  \n",
       "3               positive  \n",
       "4                neutral  \n",
       "...                  ...  \n",
       "16995            neutral  \n",
       "16996            neutral  \n",
       "16997            neutral  \n",
       "16998            neutral  \n",
       "16999           negative  \n",
       "\n",
       "[17000 rows x 3 columns]"
      ]
     },
     "execution_count": 3,
     "metadata": {},
     "output_type": "execute_result"
    }
   ],
   "source": [
    "df"
   ]
  },
  {
   "cell_type": "code",
   "execution_count": 4,
   "id": "a9d2f655",
   "metadata": {},
   "outputs": [
    {
     "data": {
      "text/html": [
       "<div>\n",
       "<style scoped>\n",
       "    .dataframe tbody tr th:only-of-type {\n",
       "        vertical-align: middle;\n",
       "    }\n",
       "\n",
       "    .dataframe tbody tr th {\n",
       "        vertical-align: top;\n",
       "    }\n",
       "\n",
       "    .dataframe thead th {\n",
       "        text-align: right;\n",
       "    }\n",
       "</style>\n",
       "<table border=\"1\" class=\"dataframe\">\n",
       "  <thead>\n",
       "    <tr style=\"text-align: right;\">\n",
       "      <th></th>\n",
       "      <th>ID</th>\n",
       "      <th>Tweet</th>\n",
       "      <th>Sentiment Polarity</th>\n",
       "    </tr>\n",
       "  </thead>\n",
       "  <tbody>\n",
       "    <tr>\n",
       "      <th>0</th>\n",
       "      <td>4330</td>\n",
       "      <td>vist bolest vztek smutek zmatek osam lost bezn...</td>\n",
       "      <td>neutral</td>\n",
       "    </tr>\n",
       "    <tr>\n",
       "      <th>1</th>\n",
       "      <td>41616</td>\n",
       "      <td>hain yaar neha karega post usn na sach mein ph...</td>\n",
       "      <td>neutral</td>\n",
       "    </tr>\n",
       "    <tr>\n",
       "      <th>2</th>\n",
       "      <td>6648</td>\n",
       "      <td>televis media congress liy nahi aapko pata cha...</td>\n",
       "      <td>negative</td>\n",
       "    </tr>\n",
       "    <tr>\n",
       "      <th>3</th>\n",
       "      <td>2512</td>\n",
       "      <td>india nrc lagu kare kashmir dhara khatam kare ...</td>\n",
       "      <td>positive</td>\n",
       "    </tr>\n",
       "    <tr>\n",
       "      <th>4</th>\n",
       "      <td>610</td>\n",
       "      <td>pagal real issu mandir import hindu khatr</td>\n",
       "      <td>neutral</td>\n",
       "    </tr>\n",
       "    <tr>\n",
       "      <th>5</th>\n",
       "      <td>14356</td>\n",
       "      <td>jeet dher sari subh kamnay modi asha karta jis...</td>\n",
       "      <td>positive</td>\n",
       "    </tr>\n",
       "    <tr>\n",
       "      <th>6</th>\n",
       "      <td>5840</td>\n",
       "      <td>topi wali bo new job hogi humey choti kesi miley</td>\n",
       "      <td>negative</td>\n",
       "    </tr>\n",
       "    <tr>\n",
       "      <th>7</th>\n",
       "      <td>32791</td>\n",
       "      <td>modi media walon maza hindu muslim debat karn</td>\n",
       "      <td>neutral</td>\n",
       "    </tr>\n",
       "    <tr>\n",
       "      <th>8</th>\n",
       "      <td>37480</td>\n",
       "      <td>baih tere itjey jalti pakistan chutiy kheln na...</td>\n",
       "      <td>negative</td>\n",
       "    </tr>\n",
       "    <tr>\n",
       "      <th>9</th>\n",
       "      <td>16395</td>\n",
       "      <td>he come actual someon shaadi</td>\n",
       "      <td>neutral</td>\n",
       "    </tr>\n",
       "  </tbody>\n",
       "</table>\n",
       "</div>"
      ],
      "text/plain": [
       "      ID                                              Tweet Sentiment Polarity\n",
       "0   4330  vist bolest vztek smutek zmatek osam lost bezn...            neutral\n",
       "1  41616  hain yaar neha karega post usn na sach mein ph...            neutral\n",
       "2   6648  televis media congress liy nahi aapko pata cha...           negative\n",
       "3   2512  india nrc lagu kare kashmir dhara khatam kare ...           positive\n",
       "4    610          pagal real issu mandir import hindu khatr            neutral\n",
       "5  14356  jeet dher sari subh kamnay modi asha karta jis...           positive\n",
       "6   5840   topi wali bo new job hogi humey choti kesi miley           negative\n",
       "7  32791      modi media walon maza hindu muslim debat karn            neutral\n",
       "8  37480  baih tere itjey jalti pakistan chutiy kheln na...           negative\n",
       "9  16395                       he come actual someon shaadi            neutral"
      ]
     },
     "execution_count": 4,
     "metadata": {},
     "output_type": "execute_result"
    }
   ],
   "source": [
    "df[:10]"
   ]
  },
  {
   "cell_type": "code",
   "execution_count": 5,
   "id": "c060bf5a",
   "metadata": {
    "scrolled": true
   },
   "outputs": [
    {
     "data": {
      "text/html": [
       "<div>\n",
       "<style scoped>\n",
       "    .dataframe tbody tr th:only-of-type {\n",
       "        vertical-align: middle;\n",
       "    }\n",
       "\n",
       "    .dataframe tbody tr th {\n",
       "        vertical-align: top;\n",
       "    }\n",
       "\n",
       "    .dataframe thead th {\n",
       "        text-align: right;\n",
       "    }\n",
       "</style>\n",
       "<table border=\"1\" class=\"dataframe\">\n",
       "  <thead>\n",
       "    <tr style=\"text-align: right;\">\n",
       "      <th></th>\n",
       "      <th>ID</th>\n",
       "      <th>Tweet</th>\n",
       "      <th>Sentiment Polarity</th>\n",
       "    </tr>\n",
       "  </thead>\n",
       "  <tbody>\n",
       "    <tr>\n",
       "      <th>70</th>\n",
       "      <td>15581</td>\n",
       "      <td>NaN</td>\n",
       "      <td>neutral</td>\n",
       "    </tr>\n",
       "    <tr>\n",
       "      <th>635</th>\n",
       "      <td>42081</td>\n",
       "      <td>NaN</td>\n",
       "      <td>neutral</td>\n",
       "    </tr>\n",
       "    <tr>\n",
       "      <th>1199</th>\n",
       "      <td>43574</td>\n",
       "      <td>NaN</td>\n",
       "      <td>neutral</td>\n",
       "    </tr>\n",
       "    <tr>\n",
       "      <th>1912</th>\n",
       "      <td>42731</td>\n",
       "      <td>NaN</td>\n",
       "      <td>neutral</td>\n",
       "    </tr>\n",
       "    <tr>\n",
       "      <th>2634</th>\n",
       "      <td>9127</td>\n",
       "      <td>NaN</td>\n",
       "      <td>neutral</td>\n",
       "    </tr>\n",
       "    <tr>\n",
       "      <th>3034</th>\n",
       "      <td>35448</td>\n",
       "      <td>NaN</td>\n",
       "      <td>neutral</td>\n",
       "    </tr>\n",
       "    <tr>\n",
       "      <th>9116</th>\n",
       "      <td>2600</td>\n",
       "      <td>NaN</td>\n",
       "      <td>neutral</td>\n",
       "    </tr>\n",
       "    <tr>\n",
       "      <th>13193</th>\n",
       "      <td>11567</td>\n",
       "      <td>NaN</td>\n",
       "      <td>neutral</td>\n",
       "    </tr>\n",
       "    <tr>\n",
       "      <th>15978</th>\n",
       "      <td>4692</td>\n",
       "      <td>NaN</td>\n",
       "      <td>neutral</td>\n",
       "    </tr>\n",
       "  </tbody>\n",
       "</table>\n",
       "</div>"
      ],
      "text/plain": [
       "          ID Tweet Sentiment Polarity\n",
       "70     15581   NaN            neutral\n",
       "635    42081   NaN            neutral\n",
       "1199   43574   NaN            neutral\n",
       "1912   42731   NaN            neutral\n",
       "2634    9127   NaN            neutral\n",
       "3034   35448   NaN            neutral\n",
       "9116    2600   NaN            neutral\n",
       "13193  11567   NaN            neutral\n",
       "15978   4692   NaN            neutral"
      ]
     },
     "execution_count": 5,
     "metadata": {},
     "output_type": "execute_result"
    }
   ],
   "source": [
    "df[df['Tweet'].isnull()]"
   ]
  },
  {
   "cell_type": "code",
   "execution_count": 6,
   "id": "ce5c98df",
   "metadata": {},
   "outputs": [
    {
     "data": {
      "text/plain": [
       "nan"
      ]
     },
     "execution_count": 6,
     "metadata": {},
     "output_type": "execute_result"
    }
   ],
   "source": [
    "df[\"Tweet\"][70]"
   ]
  },
  {
   "cell_type": "code",
   "execution_count": 7,
   "id": "ea52fc2e",
   "metadata": {},
   "outputs": [],
   "source": [
    "df = df.dropna()"
   ]
  },
  {
   "cell_type": "code",
   "execution_count": 8,
   "id": "d471d425",
   "metadata": {},
   "outputs": [
    {
     "data": {
      "text/html": [
       "<div>\n",
       "<style scoped>\n",
       "    .dataframe tbody tr th:only-of-type {\n",
       "        vertical-align: middle;\n",
       "    }\n",
       "\n",
       "    .dataframe tbody tr th {\n",
       "        vertical-align: top;\n",
       "    }\n",
       "\n",
       "    .dataframe thead th {\n",
       "        text-align: right;\n",
       "    }\n",
       "</style>\n",
       "<table border=\"1\" class=\"dataframe\">\n",
       "  <thead>\n",
       "    <tr style=\"text-align: right;\">\n",
       "      <th></th>\n",
       "      <th>ID</th>\n",
       "      <th>Tweet</th>\n",
       "      <th>Sentiment Polarity</th>\n",
       "    </tr>\n",
       "  </thead>\n",
       "  <tbody>\n",
       "  </tbody>\n",
       "</table>\n",
       "</div>"
      ],
      "text/plain": [
       "Empty DataFrame\n",
       "Columns: [ID, Tweet, Sentiment Polarity]\n",
       "Index: []"
      ]
     },
     "execution_count": 8,
     "metadata": {},
     "output_type": "execute_result"
    }
   ],
   "source": [
    "df[df['Tweet'].isnull()]"
   ]
  },
  {
   "cell_type": "code",
   "execution_count": 9,
   "id": "46482923",
   "metadata": {},
   "outputs": [
    {
     "name": "stdout",
     "output_type": "stream",
     "text": [
      "Defaulting to user installation because normal site-packages is not writeable\n",
      "Requirement already satisfied: scikit-learn in /home/saanvi/.local/lib/python3.10/site-packages (1.2.2)\n",
      "Requirement already satisfied: threadpoolctl>=2.0.0 in /home/saanvi/.local/lib/python3.10/site-packages (from scikit-learn) (3.1.0)\n",
      "Requirement already satisfied: scipy>=1.3.2 in /usr/lib/python3/dist-packages (from scikit-learn) (1.8.0)\n",
      "Requirement already satisfied: joblib>=1.1.1 in /home/saanvi/.local/lib/python3.10/site-packages (from scikit-learn) (1.2.0)\n",
      "Requirement already satisfied: numpy>=1.17.3 in /usr/lib/python3/dist-packages (from scikit-learn) (1.21.5)\n",
      "Note: you may need to restart the kernel to use updated packages.\n"
     ]
    }
   ],
   "source": [
    "pip install scikit-learn"
   ]
  },
  {
   "cell_type": "code",
   "execution_count": 9,
   "id": "1ad901b5",
   "metadata": {},
   "outputs": [],
   "source": [
    "from sklearn.feature_extraction.text import CountVectorizer\n",
    "vectorizer = CountVectorizer(analyzer = 'word', lowercase = True,ngram_range=(1, 1))\n",
    "features = vectorizer.fit_transform(df['Tweet'])\n",
    "sentiment = df['Sentiment Polarity']"
   ]
  },
  {
   "cell_type": "code",
   "execution_count": 10,
   "id": "089f839d",
   "metadata": {},
   "outputs": [
    {
     "data": {
      "text/plain": [
       "<16991x21604 sparse matrix of type '<class 'numpy.int64'>'\n",
       "\twith 158523 stored elements in Compressed Sparse Row format>"
      ]
     },
     "execution_count": 10,
     "metadata": {},
     "output_type": "execute_result"
    }
   ],
   "source": [
    "features"
   ]
  },
  {
   "cell_type": "code",
   "execution_count": 11,
   "id": "1274d256",
   "metadata": {},
   "outputs": [],
   "source": [
    "\n",
    "\n",
    "from sklearn.model_selection import train_test_split\n",
    "\n",
    "X_train, X_test, y_train, y_test  = train_test_split(\n",
    "        features, \n",
    "        sentiment,\n",
    "        train_size=0.82352942, \n",
    "        shuffle = False\n",
    "       )\n",
    "\n"
   ]
  },
  {
   "cell_type": "code",
   "execution_count": 20,
   "id": "20f5b0c9",
   "metadata": {
    "scrolled": true
   },
   "outputs": [
    {
     "name": "stdout",
     "output_type": "stream",
     "text": [
      "  (0, 20750)\t1\n",
      "  (0, 2976)\t1\n",
      "  (0, 20829)\t1\n",
      "  (0, 18153)\t1\n",
      "  (0, 21574)\t1\n",
      "  (0, 14049)\t1\n",
      "  (0, 11588)\t1\n",
      "  (0, 2410)\t1\n",
      "  (0, 13275)\t1\n",
      "  (0, 10630)\t1\n",
      "  (0, 19051)\t1\n",
      "  (0, 20826)\t1\n",
      "  (0, 11375)\t1\n",
      "  (1, 7596)\t1\n",
      "  (1, 21272)\t1\n",
      "  (1, 13519)\t1\n",
      "  (1, 9970)\t2\n",
      "  (1, 15177)\t2\n",
      "  (1, 20344)\t1\n",
      "  (1, 13178)\t1\n",
      "  (1, 16664)\t1\n",
      "  (1, 12413)\t1\n",
      "  (1, 14889)\t1\n",
      "  (1, 10005)\t1\n",
      "  (1, 3542)\t1\n",
      "  :\t:\n",
      "  (13989, 15815)\t2\n",
      "  (13989, 2628)\t1\n",
      "  (13989, 17917)\t1\n",
      "  (13989, 13574)\t1\n",
      "  (13989, 13763)\t1\n",
      "  (13989, 9197)\t1\n",
      "  (13989, 14512)\t1\n",
      "  (13990, 17842)\t1\n",
      "  (13990, 169)\t1\n",
      "  (13990, 15909)\t1\n",
      "  (13990, 4683)\t1\n",
      "  (13990, 15949)\t1\n",
      "  (13990, 4005)\t1\n",
      "  (13990, 18837)\t1\n",
      "  (13990, 7047)\t1\n",
      "  (13991, 13240)\t1\n",
      "  (13991, 10587)\t1\n",
      "  (13991, 6935)\t1\n",
      "  (13991, 16957)\t1\n",
      "  (13991, 16763)\t1\n",
      "  (13991, 6789)\t1\n",
      "  (13991, 12968)\t2\n",
      "  (13991, 3550)\t1\n",
      "  (13991, 17695)\t1\n",
      "  (13991, 2593)\t1\n"
     ]
    }
   ],
   "source": [
    "print(X_train)"
   ]
  },
  {
   "cell_type": "code",
   "execution_count": 21,
   "id": "825662ca",
   "metadata": {},
   "outputs": [
    {
     "data": {
      "text/plain": [
       "<13992x21604 sparse matrix of type '<class 'numpy.int64'>'\n",
       "\twith 130681 stored elements in Compressed Sparse Row format>"
      ]
     },
     "execution_count": 21,
     "metadata": {},
     "output_type": "execute_result"
    }
   ],
   "source": [
    "X_train"
   ]
  },
  {
   "cell_type": "raw",
   "id": "6011d013",
   "metadata": {},
   "source": [
    "X_test"
   ]
  },
  {
   "cell_type": "code",
   "execution_count": 22,
   "id": "177b0167",
   "metadata": {
    "scrolled": true
   },
   "outputs": [
    {
     "name": "stdout",
     "output_type": "stream",
     "text": [
      "  (0, 13605)\t1\n",
      "  (0, 8989)\t1\n",
      "  (0, 8606)\t1\n",
      "  (0, 3533)\t1\n",
      "  (1, 718)\t2\n",
      "  (1, 14268)\t2\n",
      "  (1, 13182)\t1\n",
      "  (1, 16966)\t1\n",
      "  (1, 1948)\t1\n",
      "  (1, 11507)\t1\n",
      "  (1, 9271)\t1\n",
      "  (1, 13466)\t2\n",
      "  (1, 964)\t1\n",
      "  (1, 733)\t1\n",
      "  (1, 15642)\t1\n",
      "  (1, 19680)\t1\n",
      "  (2, 14545)\t1\n",
      "  (2, 1936)\t1\n",
      "  (2, 16203)\t1\n",
      "  (2, 9521)\t1\n",
      "  (2, 9476)\t1\n",
      "  (2, 19193)\t1\n",
      "  (2, 17134)\t1\n",
      "  (2, 20845)\t1\n",
      "  (2, 11101)\t1\n",
      "  :\t:\n",
      "  (2994, 4720)\t1\n",
      "  (2995, 18272)\t1\n",
      "  (2995, 19383)\t1\n",
      "  (2995, 20868)\t1\n",
      "  (2995, 13580)\t1\n",
      "  (2995, 15626)\t1\n",
      "  (2995, 19757)\t1\n",
      "  (2995, 16125)\t1\n",
      "  (2996, 2628)\t1\n",
      "  (2996, 7175)\t1\n",
      "  (2996, 10292)\t2\n",
      "  (2996, 20868)\t1\n",
      "  (2996, 6169)\t1\n",
      "  (2996, 2798)\t1\n",
      "  (2996, 185)\t1\n",
      "  (2996, 2799)\t1\n",
      "  (2996, 1034)\t1\n",
      "  (2997, 1660)\t3\n",
      "  (2997, 17917)\t1\n",
      "  (2997, 8276)\t1\n",
      "  (2998, 4063)\t1\n",
      "  (2998, 7766)\t1\n",
      "  (2998, 16661)\t1\n",
      "  (2998, 11745)\t1\n",
      "  (2998, 19486)\t1\n"
     ]
    }
   ],
   "source": [
    "print(X_test)"
   ]
  },
  {
   "cell_type": "code",
   "execution_count": 12,
   "id": "ea0ba466",
   "metadata": {},
   "outputs": [],
   "source": [
    "import time\n",
    "start_time=time.time()"
   ]
  },
  {
   "cell_type": "code",
   "execution_count": 13,
   "id": "60c13b25",
   "metadata": {},
   "outputs": [
    {
     "data": {
      "text/plain": [
       "1679162315.1699164"
      ]
     },
     "execution_count": 13,
     "metadata": {},
     "output_type": "execute_result"
    }
   ],
   "source": [
    "start_time"
   ]
  },
  {
   "cell_type": "code",
   "execution_count": 14,
   "id": "1c0da797",
   "metadata": {},
   "outputs": [],
   "source": [
    "from sklearn import svm\n",
    "import sklearn\n",
    "from sklearn.linear_model import LogisticRegression\n",
    "from sklearn.ensemble import RandomForestClassifier\n",
    "from sklearn.ensemble import VotingClassifier"
   ]
  },
  {
   "cell_type": "code",
   "execution_count": 15,
   "id": "03e1db91",
   "metadata": {},
   "outputs": [],
   "source": [
    "estimator = [] \n",
    "estimator.append(('SVC',  \n",
    "                  svm.SVC(kernel='linear',decision_function_shape='ovr', class_weight='balanced',random_state=0, probability=True))) \n",
    "estimator.append(('LR', LogisticRegression(random_state=0, class_weight='balanced',solver='lbfgs', max_iter=1000))) \n",
    "estimator.append(('RF', RandomForestClassifier(n_estimators=1000, random_state=0, class_weight='balanced'))) "
   ]
  },
  {
   "cell_type": "code",
   "execution_count": 16,
   "id": "aa06ce85",
   "metadata": {},
   "outputs": [
    {
     "data": {
      "text/plain": [
       "[('SVC',\n",
       "  SVC(class_weight='balanced', kernel='linear', probability=True, random_state=0)),\n",
       " ('LR',\n",
       "  LogisticRegression(class_weight='balanced', max_iter=1000, random_state=0)),\n",
       " ('RF',\n",
       "  RandomForestClassifier(class_weight='balanced', n_estimators=1000,\n",
       "                         random_state=0))]"
      ]
     },
     "execution_count": 16,
     "metadata": {},
     "output_type": "execute_result"
    }
   ],
   "source": [
    "estimator"
   ]
  },
  {
   "cell_type": "code",
   "execution_count": 17,
   "id": "1e7653ca",
   "metadata": {},
   "outputs": [
    {
     "name": "stdout",
     "output_type": "stream",
     "text": [
      "12.548786429564158  minutes\n"
     ]
    }
   ],
   "source": [
    "# Voting Classifier with hard voting \n",
    "vot_hard = VotingClassifier(estimators = estimator, voting ='hard') \n",
    "vot_hard.fit(X_train, y_train) \n",
    "y_pred = vot_hard.predict(X_test) \n",
    "  \n",
    "duration = time.time()-start_time\n",
    "print(duration/60, \" minutes\")"
   ]
  },
  {
   "cell_type": "code",
   "execution_count": 18,
   "id": "a37b2171",
   "metadata": {},
   "outputs": [
    {
     "data": {
      "text/plain": [
       "array(['neutral', 'negative', 'neutral', ..., 'positive', 'negative',\n",
       "       'negative'], dtype=object)"
      ]
     },
     "execution_count": 18,
     "metadata": {},
     "output_type": "execute_result"
    }
   ],
   "source": [
    "y_pred"
   ]
  }
 ],
 "metadata": {
  "kernelspec": {
   "display_name": "Python 3 (ipykernel)",
   "language": "python",
   "name": "python3"
  },
  "language_info": {
   "codemirror_mode": {
    "name": "ipython",
    "version": 3
   },
   "file_extension": ".py",
   "mimetype": "text/x-python",
   "name": "python",
   "nbconvert_exporter": "python",
   "pygments_lexer": "ipython3",
   "version": "3.10.6"
  }
 },
 "nbformat": 4,
 "nbformat_minor": 5
}
